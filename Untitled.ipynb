{
 "cells": [
  {
   "cell_type": "markdown",
   "metadata": {},
   "source": [
    "# Proyecto Final: <span style=\"color:red\";>CAN I BUY IT?</span>\n",
    " \n",
    "**Integrantes:** \n",
    "<table>\n",
    "<tr style=\"font-weight:bold;\"><td>Estudiante</td><td>Código</td><td>Grupo</td></tr>\n",
    "<tr><td>Quintero Jaimes Santiago</td><td>2180445</td><td>H1</td></tr>\n",
    "<tr><td>Ramirez Hernandez Fabian</td><td>2191925</td><td>H1</td></tr>\n",
    "<tr><td>Uribe Rodriguez Brayan</td><td>2191946</td><td>H1</td></tr>\n",
    "</table>\n",
    "**Profesor: Gustavo Garzón**\n",
    "\n",
    "**Escuela de Ingeniería de Sistemas e Informática** "
   ]
  },
  {
   "cell_type": "markdown",
   "metadata": {},
   "source": [
    "El siguiente automata finito determinista mostrará la compra de los componentes para poder armar una computadora y al final se calculará el total de la compra.\n",
    "\n",
    "Este automata se realizará teniendo en cuenta el siguiente alfabeto $\\sum =\\{0,1,2,3,a,b,c,g,i,f,r,x,n,s,h,p,m\\}$"
   ]
  },
  {
   "cell_type": "markdown",
   "metadata": {},
   "source": [
    "<h2><span style=\"color:#FFF; background-color:#F00; font-weight:bold; padding:4px;\">¡IMPORTANTE!</span> Ejecute esta celda para iniciar el proyecto</h2>"
   ]
  },
  {
   "cell_type": "code",
   "execution_count": 5,
   "metadata": {
    "collapsed": true
   },
   "outputs": [],
   "source": [
    "!chmod 777 empaquetar.sh run utils/*"
   ]
  },
  {
   "cell_type": "markdown",
   "metadata": {},
   "source": [
    "<img src=\"files/proyectoautomatas.jpg\"/>"
   ]
  },
  {
   "cell_type": "code",
   "execution_count": 2,
   "metadata": {
    "collapsed": false
   },
   "outputs": [],
   "source": [
    "from automatalib.fa.dfa import DFA \n",
    "d=DFA(\n",
    "states={'PC','apu','cpu','amd','intel','gpu','nvidia','ati',\n",
    "               'gtx1000','rtx2000','rtx3000','rx500','rx5000','rx6000',\n",
    "               'ram','3200g','3400g','5600g','4gb','8gb','16gb',\n",
    "               '32gb','ssd','hdd','280GB','480GB','1TB','1tb','2tb',\n",
    "               '4tb','psu','500','650','800','case','microatx',\n",
    "               'miniatx','atx','monitor','60hz','75hz','144hz',\n",
    "               'i3','i5','i7','i9','r3','r5','r7','r9'},\n",
    "        input_symbols={'0', '1', '2', '3', 'c', 'a', 'g', 'n', 'x', 'r', 'h',\n",
    "                      's', 'p', 'b', 'm','f','i'},\n",
    "        transitions={\n",
    "            'PC': {'c': 'cpu','a': 'apu'},\n",
    "            'cpu': {'i': 'intel','f': 'amd'},\n",
    "            'apu': {'0': '3200g','1': '3400g','2': '5600g'},\n",
    "            'intel': {'0': 'i3','1': 'i5','2': 'i7','3': 'i9'},\n",
    "            'amd': {'0': 'r3','1': 'r5','2': 'r7','3': 'r9'},\n",
    "            'i3': {'g': 'gpu'},\n",
    "            'i5': {'g': 'gpu'},\n",
    "            'i7': {'g': 'gpu'},\n",
    "            'i9': {'g': 'gpu'},\n",
    "            'r3': {'g': 'gpu'},\n",
    "            'r5': {'g': 'gpu'},\n",
    "            'r7': {'g': 'gpu'},\n",
    "            'r9': {'g': 'gpu'},\n",
    "            'gpu': {'n': 'nvidia','x': 'ati'},\n",
    "            'nvidia': {'0': 'gtx1000','1': 'rtx2000','2': 'rtx3000'},\n",
    "            'ati': {'0': 'rx500','1': 'rx5000','2': 'rx6000'},\n",
    "            'gtx1000': {'r': 'ram'},\n",
    "            'rtx2000': {'r': 'ram'},\n",
    "            'rtx3000': {'r': 'ram'},\n",
    "            'rx500': {'r': 'ram'},\n",
    "            'rx5000': {'r': 'ram'},\n",
    "            'rx6000': {'r': 'ram'},\n",
    "            '3200g': {'r': 'ram'},\n",
    "            '3400g': {'r': 'ram'},\n",
    "            '5600g': {'r': 'ram'},\n",
    "            'ram': {'0': '4gb','1': '8gb','2': '16gb','3': '32gb'},\n",
    "            '4gb': {'s': 'ssd','h': 'hdd'},\n",
    "            '8gb': {'s': 'ssd','h': 'hdd'},\n",
    "            '16gb': {'s': 'ssd','h': 'hdd'},\n",
    "            '32gb': {'s': 'ssd','h': 'hdd'},\n",
    "            'ssd': {'0': '280GB','1': '480GB','2': '1TB'},\n",
    "            'hdd': {'0': '1tb','1': '2tb','2': '4tb'},\n",
    "            '280GB': {'p': 'psu'},\n",
    "            '480GB': {'p': 'psu'},\n",
    "            '1TB': {'p': 'psu'},\n",
    "            '1tb': {'p': 'psu'},\n",
    "            '2tb': {'p': 'psu'},\n",
    "            '4tb': {'p': 'psu'},\n",
    "            'psu': {'0': '500','1': '650','2': '800'},\n",
    "            '500': {'b': 'case'},\n",
    "            '650': {'b': 'case'},\n",
    "            '800': {'b': 'case'},\n",
    "            'case': {'0': 'microatx','1': 'miniatx','2': 'atx'},\n",
    "            'microatx': {'m': 'monitor'},\n",
    "            'miniatx': {'m': 'monitor'},\n",
    "            'atx': {'m': 'monitor'},\n",
    "            'monitor': {'0': '60hz','1': '75hz','2': '144hz'},\n",
    "            '60hz': {},\n",
    "            '75hz': {},\n",
    "            '144hz': {},\n",
    "        },   \n",
    "    initial_state='PC',\n",
    "    final_states={'60hz','75hz','144hz'}\n",
    "    ) \n"
   ]
  },
  {
   "cell_type": "markdown",
   "metadata": {},
   "source": [
    "**Ahora se va a explicar cómo agregar palabras que pueda aceptar el automata:**\n",
    "<ol>\n",
    "<li>Se tiene que empezar con el simbolo del tipo de procesador (viene en combo con la motherboard) que se va a comprar; si es un apu **'a'**, de lo contrario si es cpu se inicia con **'c'**</li>\n",
    "<li>Si se escogió cpu **'c'**, se elige intel **'i'** o amd **'f'**, se escogerá entre los cuatro procesadores disponibles para cada uno.<br><br>\n",
    "<span style=\"color:red\";>Para intel</span>:<ul><li>**[0: intel i3; 1: intel i5; 2: intel i7; 3: intel i9]**</li></ul>  \n",
    "<span style=\"color:red\";>Para amd:</span><ul><li>**[0: ryzen 3; 1: ryzen 5; 2: ryzen 7; 3: ryzen 9]**</li></ul>\n",
    "</li><br>\n",
    "<li>Si se escogió apu **'a'**, se elegirá:<br>\n",
    "<ul><li>**[0: ryzen 3200g; 1: ryzen 5 3400g; 2: ryzen 5600g]**</li></ul><br>\n",
    "<h3 style=\"color:blue\";>Nota: Si se eligió apu seguir al paso 5</h3> <br><br>\n",
    "<li>Ahora se elige la gpu con **'g'** y se procederá a hacer la elección entre las 2 marcas de gráficas disponibles; Nvidia **'n'** o Ati **'x'** <br><br>\n",
    "<span style=\"color:red\";>Para Nvidia:</span><ul><li>**[0: serie 1000; 1: serie 2000; 2: serie 3000]**</li></ul> <br>\n",
    "<span style=\"color:red\";>Para ATI:</span><ul><li>**[0: serie rx 500; 1: serie rx 5000; 2: serie rx 6000]**</li></ul>\n",
    "</li><br>\n",
    "<li>Ahora se elegirá la RAM con **'r'** y se procede a elegir los diferentes tamaños de RAM:\n",
    "<ul><li>**[0: 4GB; 1: 8GB; 2: 16GB; 3: 32GB]**</li></ul>  \n",
    "</li>\n",
    "<li>Se procede a elegir el tipo de almacenamiento, para ssd **'s'** o para hdd **'h'**<br><br>\n",
    "<span style=\"color:red\";>Para SSD:</span><ul><li>**[0: 280GB; 1: 480GB; 2: 1TB]**</li></ul><br> \n",
    "<span style=\"color:red\";>Para HDD:</span><ul><li>**[0: 1TB; 1: 2TB; 2: 4TB]**</li></ul>\n",
    "</li><br>\n",
    "<li>Se continúa eligiendo la potencia de la psu **'p'**: <br>\n",
    "<ul><li>**[0: 500w; 1: 650w; 2: 800w]**</li></ul>\n",
    "</li><br>\n",
    "<li>Se elige el tipo de chasis **'b'** para el pc:<br>\n",
    "<ul><li>**[0: microatx; 1: miniatx; 2: atx]**</li></ul>\n",
    "</li><br>\n",
    "<li>Finalmente se elige el tipo de tasa de refresco del monitor **'m'**:\n",
    "<ul><li>**[0: 60hz; 1: 75hz; 2: 144hz]**</li></ul>\n",
    "</li>\n",
    "</ol> "
   ]
  },
  {
   "cell_type": "markdown",
   "metadata": {},
   "source": [
    "<img src=\"files/tabla1.png\"/>"
   ]
  },
  {
   "cell_type": "markdown",
   "metadata": {},
   "source": [
    "<img src=\"files/tabla2.png\"/>"
   ]
  },
  {
   "cell_type": "markdown",
   "metadata": {},
   "source": [
    "<img src=\"files/tabla3.png\"/>"
   ]
  },
  {
   "cell_type": "markdown",
   "metadata": {},
   "source": [
    "<img src=\"files/tabla4.png\"/>"
   ]
  },
  {
   "cell_type": "markdown",
   "metadata": {},
   "source": [
    "<img src=\"files/tabla5.png\"/>"
   ]
  },
  {
   "cell_type": "markdown",
   "metadata": {},
   "source": [
    "<img src=\"files/tabla6.png\"/>"
   ]
  },
  {
   "cell_type": "markdown",
   "metadata": {},
   "source": [
    "<img src=\"files/tabla7.png\"/>"
   ]
  },
  {
   "cell_type": "code",
   "execution_count": 4,
   "metadata": {
    "collapsed": false
   },
   "outputs": [
    {
     "name": "stdout",
     "output_type": "stream",
     "text": [
      "Su compra es valida: los articulos comprados fueron: ['PC', 'apu', '3400g', 'ram', '8gb', 'ssd', '480GB', 'psu', '800', 'case', 'microatx', 'monitor', '75hz'] y su precio calculado fue de:  640  USD\n"
     ]
    }
   ],
   "source": [
    "def checker(cadena,DFA):\n",
    "    try:\n",
    "        DFA.validate_input(cadena)\n",
    "        dic_precios = {'c': {'0': 0}, 'i': {'0': 185, '1': 245, '2': 376, '3': 467}, \n",
    "                       'f': {'0': 187, '1': 287, '2': 411, '3': 518}, 'a': {'0': 217, '1': 265, '2': 315},\n",
    "                       'g': {'0': 0}, 'n': {'0': 210, '1': 512, '2': 725}, 'x': {'0': 207, '1': 528, '2': 698}, \n",
    "                       'r': {'0': 26, '1': 35, '2': 60, '3': 87}, 's': {'0': 27, '1': 49, '2': 105},\n",
    "                       'h': {'0': 47, '1': 52, '2': 83}, 'p': {'0': 37, '1': 48, '2': 89}, 'b': {'0': 60, '1': 70, '2': 80},\n",
    "                       'm': {'0': 110, '1': 142, '2': 195 }}\n",
    "        suma = 0\n",
    "        for i in range(0,len(cadena)):\n",
    "            for k in dic_precios:\n",
    "                if k == cadena[i] and k != 'c' and k != 'g':\n",
    "                    suma+=dic_precios[k][cadena[i+1]]\n",
    "        return print(\"Su compra es valida: los articulos comprados fueron:\",\n",
    "                     [step for step in DFA.validate_input(cadena, step=True)],\"y su precio calculado fue de: \",suma,\" USD\")\n",
    "        \n",
    "    except Exception as e:\n",
    "        print(\"El automata no puede definir esta build \\n\", e)  \n",
    "    \n",
    "checker('a1r1s1p2b0m1',d) "
   ]
  },
  {
   "cell_type": "markdown",
   "metadata": {},
   "source": [
    "\n",
    "|PALABRAS ACEPTADAS $\\hspace{1.0cm}$ |  PALABRAS RECHAZADAS $\\hspace{1.0cm}$|\n",
    "|------------------------------------|--------------------------------------|\n",
    "|$a1r1s1p2b0m1   \\hspace{0.1cm}$           |$ca1r1s1p2b0m1\\hspace{0.1cm}       $           |\n",
    "|$cf1gx1r1s1p2b0m1         $                    |$c0f1gx1r1s1p2bm1\\hspace{0.1cm}     $           |\n",
    "|$ci3gn2r3s2p2b2m2       $                      |$ai3gn2s2p2b2m2\\hspace{0.1cm} $                   |\n",
    "|$a2r3s2p2b2m2   $                        |$c2r3s2p2b2m2f\\hspace{0.1cm} $              |\n",
    "|$cf0gx0r2h2p1b0m0       $                 |$cf0gx01r23h2p1b0m0\\hspace{0.1cm} $                 |"
   ]
  },
  {
   "cell_type": "code",
   "execution_count": 37,
   "metadata": {
    "collapsed": false
   },
   "outputs": [
    {
     "name": "stdout",
     "output_type": "stream",
     "text": [
      "Su compra es valida: los articulos comprados fueron: ['PC', 'cpu', 'amd', 'r3', 'gpu', 'ati', 'rx500', 'ram', '16gb', 'hdd', '4tb', 'psu', '650', 'case', 'microatx', 'monitor', '60hz'] y su precio calculado fue de:  755  USD\n"
     ]
    }
   ],
   "source": [
    "checker('cf0gx0r2h2p1b0m0',d)"
   ]
  },
  {
   "cell_type": "code",
   "execution_count": 38,
   "metadata": {
    "collapsed": false
   },
   "outputs": [
    {
     "name": "stdout",
     "output_type": "stream",
     "text": [
      "Su compra es valida: los articulos comprados fueron: ['PC', 'apu', '5600g', 'ram', '32gb', 'ssd', '1TB', 'psu', '800', 'case', 'atx', 'monitor', '144hz'] y su precio calculado fue de:  871  USD\n"
     ]
    }
   ],
   "source": [
    "checker('a2r3s2p2b2m2',d)"
   ]
  },
  {
   "cell_type": "code",
   "execution_count": 39,
   "metadata": {
    "collapsed": false
   },
   "outputs": [
    {
     "name": "stdout",
     "output_type": "stream",
     "text": [
      "El automata no puede definir esta build \n",
      " 2 is not a valid input symbol\n"
     ]
    }
   ],
   "source": [
    "checker('c2r3s2p2b2m2f',d)"
   ]
  },
  {
   "cell_type": "code",
   "execution_count": null,
   "metadata": {
    "collapsed": true
   },
   "outputs": [],
   "source": []
  }
 ],
 "metadata": {
  "kernelspec": {
   "display_name": "Python 3",
   "language": "python",
   "name": "python3"
  },
  "language_info": {
   "codemirror_mode": {
    "name": "ipython",
    "version": 3
   },
   "file_extension": ".py",
   "mimetype": "text/x-python",
   "name": "python",
   "nbconvert_exporter": "python",
   "pygments_lexer": "ipython3",
   "version": "3.6.2"
  }
 },
 "nbformat": 4,
 "nbformat_minor": 0
}
